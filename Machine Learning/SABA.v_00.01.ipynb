{
  "nbformat": 4,
  "nbformat_minor": 0,
  "metadata": {
    "accelerator": "GPU",
    "colab": {
      "name": "Saba_v0.01.ipynb",
      "provenance": [],
      "collapsed_sections": [],
      "toc_visible": true
    },
    "kernelspec": {
      "name": "python3",
      "display_name": "Python 3"
    },
    "language_info": {
      "name": "python"
    }
  },
  "cells": [
    {
      "cell_type": "markdown",
      "metadata": {
        "id": "9N_EzHEPl_BF"
      },
      "source": [
        "ReadMe\n",
        "---\n",
        "\n",
        "\n",
        "\n",
        "---\n",
        "\n",
        "Sahabat Belajar (SABA) or study companion is our capstone project for Bangkit 2021 For more information please visit or git hub [SABA](https://github.com/Bagoes-Heikhal/SABA)"
      ]
    },
    {
      "cell_type": "code",
      "metadata": {
        "id": "Ngd1HvWI8U98"
      },
      "source": [
        "# Chatbot with Deep NLP\n",
        "#Importing the libraries\n",
        "import numpy as np\n",
        "import tensorflow\n",
        "import re\n",
        "import time \n",
        "from tensorflow.keras.preprocessing.sequence import pad_sequences\n",
        "from tensorflow.keras.utils import to_categorical\n",
        "from tensorflow.keras.models import Model\n",
        "from tensorflow.keras.layers import Dense, Embedding, LSTM, Input, Bidirectional\n",
        "from google.colab import drive"
      ],
      "execution_count": 1,
      "outputs": []
    },
    {
      "cell_type": "code",
      "metadata": {
        "colab": {
          "base_uri": "https://localhost:8080/"
        },
        "id": "p5SKxNklzyPc",
        "outputId": "06bbed23-b540-4304-95cc-9c94f7239b50"
      },
      "source": [
        "print(tensorflow.__version__)"
      ],
      "execution_count": 2,
      "outputs": [
        {
          "output_type": "stream",
          "text": [
            "2.5.0\n"
          ],
          "name": "stdout"
        }
      ]
    },
    {
      "cell_type": "code",
      "metadata": {
        "id": "SV0Xk8FYVk55",
        "colab": {
          "base_uri": "https://localhost:8080/"
        },
        "outputId": "ee744220-26f3-4ebc-a332-51db6361af95"
      },
      "source": [
        "drive.mount(\"/content/drive\")"
      ],
      "execution_count": 3,
      "outputs": [
        {
          "output_type": "stream",
          "text": [
            "Drive already mounted at /content/drive; to attempt to forcibly remount, call drive.mount(\"/content/drive\", force_remount=True).\n"
          ],
          "name": "stdout"
        }
      ]
    },
    {
      "cell_type": "markdown",
      "metadata": {
        "id": "bX39pKl7Eomm"
      },
      "source": [
        "**Data Preprocess**\n",
        "---\n",
        "\n",
        "\n",
        "---\n",
        "\n"
      ]
    },
    {
      "cell_type": "code",
      "metadata": {
        "id": "vQEEgI_49Dd4"
      },
      "source": [
        "############## Import Dataset #############\n",
        "############## Untuk Drive ################## \n",
        "# questions = open ('/content/drive/MyDrive/Colab Notebooks/SABA/data/QuestionFisika.txt', encoding = 'utf-8', errors = 'ignore').read().split('\\n')\n",
        "# answers = open ('/content/drive/MyDrive/Colab Notebooks/SABA/data/AnswerFisika.txt', encoding = 'utf-8', errors = 'ignore').read().split('\\n')\n",
        "questions = open ('/content/drive/MyDrive/Colab Notebooks/SABA/data/Questions.txt', encoding = 'utf-8', errors = 'ignore').read().split('\\n')\n",
        "answers = open ('/content/drive/MyDrive/Colab Notebooks/SABA/data/Answers.txt', encoding = 'utf-8', errors = 'ignore').read().split('\\n')"
      ],
      "execution_count": 4,
      "outputs": []
    },
    {
      "cell_type": "code",
      "metadata": {
        "id": "UE9Pzxnlf3xU"
      },
      "source": [
        "####### Cleaning text dari tanda baca dan agar seragam #######\n",
        "def clean_text(text):\n",
        "    text = text.lower().strip()\n",
        "    text = re.sub(r'\" - \"+', \"\", text)\n",
        "    text = re.sub(r'\" +\"', \" \", text)\n",
        "    text = re.sub(r'\"^ \"', \"\", text)\n",
        "    text = re.sub(r'[-()\\\"#/@;:<>{}`+=~|.!?,]', \"\", text)\n",
        "    text = re.sub(r'[\\-\\-]', \"\", text)\n",
        "    text = re.sub(r'\\.\\.\\.', \"\", text)\n",
        "    text = re.sub(r'^- ', \"\", text)\n",
        "    return text"
      ],
      "execution_count": 5,
      "outputs": []
    },
    {
      "cell_type": "code",
      "metadata": {
        "id": "p1uxmRRBf6Jh"
      },
      "source": [
        "############### Petanyaan dan Jawaban clean ###############\n",
        "clean_questions = []\n",
        "for question in questions:\n",
        "    clean_questions.append(clean_text(question))\n",
        "    \n",
        "clean_answers = []\n",
        "for answer in answers:\n",
        "    clean_answers.append(clean_text(answer))"
      ],
      "execution_count": 6,
      "outputs": []
    },
    {
      "cell_type": "code",
      "metadata": {
        "id": "l_ddCapBf8RP",
        "colab": {
          "base_uri": "https://localhost:8080/"
        },
        "outputId": "3690ea9d-23a6-4ee3-90b7-d4f63c9b5950"
      },
      "source": [
        "############### Untuk Tokenizer dan input embedding layers ############### \n",
        "word2count = {}\n",
        "for question in clean_questions:\n",
        "    for word in question.split():\n",
        "        if word not in word2count:\n",
        "            word2count[word] = 1\n",
        "        else:\n",
        "            word2count[word] += 1\n",
        "\n",
        "for answer in clean_answers:\n",
        "    for word in answer.split():\n",
        "        if word not in word2count:\n",
        "            word2count[word] = 1\n",
        "        else:\n",
        "            word2count[word] += 1\n",
        "\n",
        "print(len(word2count))"
      ],
      "execution_count": 7,
      "outputs": [
        {
          "output_type": "stream",
          "text": [
            "3282\n"
          ],
          "name": "stdout"
        }
      ]
    },
    {
      "cell_type": "code",
      "metadata": {
        "id": "TagnKgBOf-h7",
        "colab": {
          "base_uri": "https://localhost:8080/"
        },
        "outputId": "d4c476f6-eb0f-4359-ecf1-9386797fd0b5"
      },
      "source": [
        "############ Membatasi batas minimum dictionary yang digunakan ##############\n",
        "threshold = 5\n",
        "\n",
        "vocab = {}\n",
        "word_num = 0\n",
        "for word, count in word2count.items():\n",
        "    if count >= threshold:\n",
        "        vocab[word] = word_num\n",
        "        word_num += 1\n",
        "\n",
        "print(len(vocab))"
      ],
      "execution_count": 8,
      "outputs": [
        {
          "output_type": "stream",
          "text": [
            "2653\n"
          ],
          "name": "stdout"
        }
      ]
    },
    {
      "cell_type": "code",
      "metadata": {
        "id": "cCOi_GSTgL3R",
        "colab": {
          "base_uri": "https://localhost:8080/"
        },
        "outputId": "935201c0-45de-469c-a62e-9a773b1a24be"
      },
      "source": [
        "##### Memberikan Token Start of Sentence (SOS),\n",
        "##### End of Sentence (EOS)\n",
        "##### PAD untuk padding dan OUT untuk kata yang tidak ada di vocab\n",
        "\n",
        "for i in range(len(clean_answers)):\n",
        "    clean_answers[i] = '<SOS> ' + clean_answers[i] + ' <EOS>'\n",
        "\n",
        "tokens = ['<PAD>', '<EOS>', '<OUT>', '<SOS>']\n",
        "x = len(vocab)\n",
        "for token in tokens:\n",
        "    vocab[token] = x\n",
        "    x += 1\n",
        "\n",
        "    \n",
        "print(clean_questions[0])\n",
        "print(clean_answers[0])"
      ],
      "execution_count": 9,
      "outputs": [
        {
          "output_type": "stream",
          "text": [
            "apakah kamu terluka\n",
            "<SOS> aku tidak punya tubuh <EOS>\n"
          ],
          "name": "stdout"
        }
      ]
    },
    {
      "cell_type": "code",
      "metadata": {
        "id": "jvI6xaKSgP_Y"
      },
      "source": [
        "###### inverse untuk decode ######\n",
        "inv_vocab = {w:v for v, w in vocab.items()}"
      ],
      "execution_count": 10,
      "outputs": []
    },
    {
      "cell_type": "code",
      "metadata": {
        "id": "4ohJ3sSXgtdz"
      },
      "source": [
        "###### Encoder Input ######\n",
        "encoder_inp = []\n",
        "for line in clean_questions:\n",
        "    lst = []\n",
        "    for word in line.split():\n",
        "        if word not in vocab:\n",
        "            lst.append(vocab['<OUT>'])\n",
        "        else:\n",
        "            lst.append(vocab[word])\n",
        "        \n",
        "    encoder_inp.append(lst)"
      ],
      "execution_count": 11,
      "outputs": []
    },
    {
      "cell_type": "code",
      "metadata": {
        "id": "_f-dolU2gwvr"
      },
      "source": [
        "###### Decoder Input ######\n",
        "decoder_inp = []\n",
        "for line in clean_answers:\n",
        "    lst = []\n",
        "    for word in line.split():\n",
        "        if word not in vocab:\n",
        "            lst.append(vocab['<OUT>'])\n",
        "        else:\n",
        "            lst.append(vocab[word])        \n",
        "    decoder_inp.append(lst)"
      ],
      "execution_count": 12,
      "outputs": []
    },
    {
      "cell_type": "markdown",
      "metadata": {
        "id": "tH3iPGf5XlTv"
      },
      "source": [
        "**Encode Model**\n",
        "---\n",
        "\n",
        "---\n",
        "\n",
        "\n",
        "\n"
      ]
    },
    {
      "cell_type": "code",
      "metadata": {
        "id": "k4jfinWFEp3_"
      },
      "source": [
        "############ Hyperparameters ##################\n",
        "max_input_len = 15\n",
        "lstm_layers = 400\n",
        "VOCAB_SIZE = len(vocab)"
      ],
      "execution_count": 13,
      "outputs": []
    },
    {
      "cell_type": "code",
      "metadata": {
        "id": "1cZFP51jg8XM"
      },
      "source": [
        "#### Padding agar panjang encoder dan decoder sama ketika di training ####\n",
        "encoder_inp = pad_sequences(encoder_inp, maxlen = max_input_len, padding='post', truncating='post')\n",
        "decoder_inp = pad_sequences(decoder_inp, maxlen = max_input_len, padding='post', truncating='post')"
      ],
      "execution_count": 14,
      "outputs": []
    },
    {
      "cell_type": "code",
      "metadata": {
        "id": "zRv63NTnhCiv",
        "colab": {
          "base_uri": "https://localhost:8080/"
        },
        "outputId": "46df4428-87bd-4d84-b38f-1cbd22937727"
      },
      "source": [
        "#### Untuk output target learning ####\n",
        "\n",
        "decoder_final_output = []\n",
        "for i in decoder_inp:\n",
        "    decoder_final_output.append(i[1:])\n",
        "\n",
        "decoder_final_output = pad_sequences(decoder_final_output, maxlen = max_input_len, padding='post', truncating='post')\n",
        "decoder_final_output = to_categorical(decoder_final_output, len(vocab))\n",
        "print(decoder_final_output.shape)"
      ],
      "execution_count": 15,
      "outputs": [
        {
          "output_type": "stream",
          "text": [
            "(48371, 15, 2657)\n"
          ],
          "name": "stdout"
        }
      ]
    },
    {
      "cell_type": "code",
      "metadata": {
        "id": "htyXVDtxhQNb"
      },
      "source": [
        "##### Embedding layer utama ####\n",
        "embedding = Embedding(VOCAB_SIZE + 1,\n",
        "                      output_dim = 50, \n",
        "                      input_length = max_input_len,\n",
        "                      trainable = True,\n",
        "                      mask_zero = True \n",
        "                      )"
      ],
      "execution_count": 16,
      "outputs": []
    },
    {
      "cell_type": "code",
      "metadata": {
        "id": "eexRcw3ihRfe"
      },
      "source": [
        "########### Encode  #############\n",
        "\n",
        "########### Encoder #############\n",
        "e_input = Input(shape=(max_input_len, ))\n",
        "e_embeded = embedding(e_input)\n",
        "e_lstm = LSTM(lstm_layers, return_sequences=True, return_state=True)\n",
        "e_op, h_state, c_state = e_lstm(e_embeded)\n",
        "e_states = [h_state, c_state]\n",
        "\n",
        "########### Decoder #############\n",
        "d_input = Input(shape=(max_input_len, ))\n",
        "d_embeded = embedding(d_input)\n",
        "d_lstm = LSTM(lstm_layers, return_sequences=True, return_state=True)\n",
        "d_output, _, _ = d_lstm(d_embeded, initial_state = e_states)\n",
        "d_dense = Dense(VOCAB_SIZE, activation='softmax')\n",
        "d_outputs = d_dense(d_output)\n",
        "\n",
        "model = Model([e_input, d_input], d_outputs)"
      ],
      "execution_count": 17,
      "outputs": []
    },
    {
      "cell_type": "markdown",
      "metadata": {
        "id": "cyIaDh8TYvrP"
      },
      "source": [
        "**TRAINING**\n",
        "---\n",
        "\n",
        "---\n",
        "\n",
        "\n",
        "\n",
        "\n"
      ]
    },
    {
      "cell_type": "code",
      "metadata": {
        "id": "zWwa_JkvhXfX"
      },
      "source": [
        "model.compile(optimizer='adam', \n",
        "              loss='categorical_crossentropy', \n",
        "              metrics=['acc'])\n",
        "\n",
        "# from keras.utils.vis_utils import plot_model\n",
        "# plot_model(model, show_shapes=True, show_layer_names=True)"
      ],
      "execution_count": 18,
      "outputs": []
    },
    {
      "cell_type": "code",
      "metadata": {
        "id": "GXCY3WqiGvkz",
        "colab": {
          "base_uri": "https://localhost:8080/"
        },
        "outputId": "7911d145-fac3-4457-8bc2-9fbe16fb7d55"
      },
      "source": [
        "############################ Untuk Memulai Training ############################\n",
        "\n",
        "history = model.fit([encoder_inp, decoder_inp], decoder_final_output, epochs=25, validation_split=0.2)"
      ],
      "execution_count": 19,
      "outputs": [
        {
          "output_type": "stream",
          "text": [
            "Epoch 1/25\n",
            "1210/1210 [==============================] - 85s 64ms/step - loss: 1.3520 - acc: 0.4637 - val_loss: 2.7879 - val_acc: 0.3491\n",
            "Epoch 2/25\n",
            "1210/1210 [==============================] - 75s 62ms/step - loss: 0.4651 - acc: 0.7799 - val_loss: 2.9702 - val_acc: 0.3743\n",
            "Epoch 3/25\n",
            "1210/1210 [==============================] - 74s 62ms/step - loss: 0.2881 - acc: 0.8383 - val_loss: 3.1515 - val_acc: 0.3921\n",
            "Epoch 4/25\n",
            "1210/1210 [==============================] - 74s 61ms/step - loss: 0.2137 - acc: 0.8615 - val_loss: 3.2608 - val_acc: 0.3953\n",
            "Epoch 5/25\n",
            "1210/1210 [==============================] - 74s 61ms/step - loss: 0.1762 - acc: 0.8730 - val_loss: 3.3678 - val_acc: 0.3956\n",
            "Epoch 6/25\n",
            "1210/1210 [==============================] - 74s 61ms/step - loss: 0.1561 - acc: 0.8795 - val_loss: 3.4540 - val_acc: 0.3913\n",
            "Epoch 7/25\n",
            "1210/1210 [==============================] - 74s 61ms/step - loss: 0.1437 - acc: 0.8837 - val_loss: 3.5760 - val_acc: 0.3966\n",
            "Epoch 8/25\n",
            "1210/1210 [==============================] - 74s 61ms/step - loss: 0.1354 - acc: 0.8863 - val_loss: 3.6242 - val_acc: 0.3912\n",
            "Epoch 9/25\n",
            "1210/1210 [==============================] - 74s 61ms/step - loss: 0.1294 - acc: 0.8886 - val_loss: 3.7143 - val_acc: 0.3905\n",
            "Epoch 10/25\n",
            "1210/1210 [==============================] - 74s 61ms/step - loss: 0.1247 - acc: 0.8908 - val_loss: 3.7643 - val_acc: 0.3899\n",
            "Epoch 11/25\n",
            "1210/1210 [==============================] - 73s 60ms/step - loss: 0.1212 - acc: 0.8925 - val_loss: 3.8300 - val_acc: 0.3950\n",
            "Epoch 12/25\n",
            "1210/1210 [==============================] - 73s 60ms/step - loss: 0.1179 - acc: 0.8936 - val_loss: 3.9041 - val_acc: 0.3995\n",
            "Epoch 13/25\n",
            "1210/1210 [==============================] - 73s 61ms/step - loss: 0.1153 - acc: 0.8949 - val_loss: 3.9712 - val_acc: 0.3892\n",
            "Epoch 14/25\n",
            "1210/1210 [==============================] - 73s 60ms/step - loss: 0.1130 - acc: 0.8965 - val_loss: 4.0277 - val_acc: 0.3982\n",
            "Epoch 15/25\n",
            "1210/1210 [==============================] - 73s 60ms/step - loss: 0.1112 - acc: 0.8967 - val_loss: 4.0825 - val_acc: 0.3900\n",
            "Epoch 16/25\n",
            "1210/1210 [==============================] - 73s 60ms/step - loss: 0.1092 - acc: 0.8981 - val_loss: 4.1220 - val_acc: 0.3925\n",
            "Epoch 17/25\n",
            "1210/1210 [==============================] - 72s 60ms/step - loss: 0.1083 - acc: 0.8985 - val_loss: 4.1604 - val_acc: 0.3931\n",
            "Epoch 18/25\n",
            "1210/1210 [==============================] - 72s 59ms/step - loss: 0.1065 - acc: 0.8994 - val_loss: 4.1767 - val_acc: 0.3881\n",
            "Epoch 19/25\n",
            "1210/1210 [==============================] - 72s 60ms/step - loss: 0.1053 - acc: 0.9002 - val_loss: 4.2464 - val_acc: 0.3944\n",
            "Epoch 20/25\n",
            "1210/1210 [==============================] - 74s 61ms/step - loss: 0.1041 - acc: 0.9005 - val_loss: 4.2645 - val_acc: 0.3956\n",
            "Epoch 21/25\n",
            "1210/1210 [==============================] - 73s 61ms/step - loss: 0.1031 - acc: 0.9011 - val_loss: 4.3231 - val_acc: 0.3822\n",
            "Epoch 22/25\n",
            "1210/1210 [==============================] - 72s 60ms/step - loss: 0.1022 - acc: 0.9018 - val_loss: 4.3728 - val_acc: 0.3961\n",
            "Epoch 23/25\n",
            "1210/1210 [==============================] - 74s 62ms/step - loss: 0.1013 - acc: 0.9019 - val_loss: 4.3890 - val_acc: 0.3951\n",
            "Epoch 24/25\n",
            "1210/1210 [==============================] - 76s 63ms/step - loss: 0.1007 - acc: 0.9026 - val_loss: 4.4093 - val_acc: 0.3944\n",
            "Epoch 25/25\n",
            "1210/1210 [==============================] - 72s 60ms/step - loss: 0.1002 - acc: 0.9028 - val_loss: 4.4543 - val_acc: 0.3986\n"
          ],
          "name": "stdout"
        }
      ]
    },
    {
      "cell_type": "markdown",
      "metadata": {
        "id": "o3VeIQEaYCSc"
      },
      "source": [
        "**Inference**\n",
        "---\n",
        "\n",
        "\n",
        "\n",
        "---\n",
        "\n"
      ]
    },
    {
      "cell_type": "code",
      "metadata": {
        "colab": {
          "base_uri": "https://localhost:8080/",
          "height": 541
        },
        "id": "AmD7uKgV_sQr",
        "outputId": "79d2409e-545d-4dc0-b610-1313f9e43bbe"
      },
      "source": [
        "import matplotlib.pyplot as plt\n",
        "\n",
        "def plot_graphs(history, string):\n",
        "  plt.plot(history.history[string])\n",
        "  plt.plot(history.history['val_'+string])\n",
        "  plt.xlabel(\"Epochs\")\n",
        "  plt.ylabel(string)\n",
        "  plt.legend([string, 'val_'+string])\n",
        "  plt.show()\n",
        "  \n",
        "plot_graphs(history, \"acc\")\n",
        "plot_graphs(history, \"loss\")"
      ],
      "execution_count": 20,
      "outputs": [
        {
          "output_type": "display_data",
          "data": {
            "image/png": "[encoded data removed]",
            "text/plain": [
              "<Figure size 432x288 with 1 Axes>"
            ]
          },
          "metadata": {
            "tags": [],
            "needs_background": "light"
          }
        },
        {
          "output_type": "display_data",
          "data": {
            "image/png": "[encoded data removed]",
            "text/plain": [
              "<Figure size 432x288 with 1 Axes>"
            ]
          },
          "metadata": {
            "tags": [],
            "needs_background": "light"
          }
        }
      ]
    },
    {
      "cell_type": "code",
      "metadata": {
        "id": "lBSQLiRjh49E"
      },
      "source": [
        "######### Decode  #############\n",
        "\n",
        "######### Encoder #############\n",
        "enc_model = Model([e_input], e_states)\n",
        "\n",
        "######### Decoder #############\n",
        "d_input_h = Input(shape=(lstm_layers,))\n",
        "d_input_c = Input(shape=(lstm_layers,))\n",
        "d_states_inputs = [d_input_h, d_input_c]\n",
        "d_outputs, d_state_h, d_state_c = d_lstm(d_embeded, initial_state = d_states_inputs)\n",
        "d_states = [d_state_h, d_state_c]\n",
        "dec_model = Model([d_input] + d_states_inputs, [d_outputs] + d_states)"
      ],
      "execution_count": 21,
      "outputs": []
    },
    {
      "cell_type": "code",
      "metadata": {
        "id": "MU0-leDoX9dT"
      },
      "source": [
        "############# Untuk Meload Model & weigth ##################\n",
        "# enc_model.load_weights('./enc_model_fisika.h5')\n",
        "# dec_model.load_weights('./dec_model_fisika.h5')\n",
        "# model.load_weights('./main_model.h5')"
      ],
      "execution_count": 22,
      "outputs": []
    },
    {
      "cell_type": "code",
      "metadata": {
        "id": "82VRbGMadbR0"
      },
      "source": [
        "############ plot Model ############\n",
        "\n",
        "# from keras.utils.vis_utils import plot_model\n",
        "# plot_model(enc_model, show_shapes=True, show_layer_names=True)\n",
        "# plot_model(dec_model, show_shapes=True, show_layer_names=True)\n",
        "# enc_model.summary()\n",
        "# dec_model.summary()"
      ],
      "execution_count": 23,
      "outputs": []
    },
    {
      "cell_type": "code",
      "metadata": {
        "id": "G5kIy3UuX9dU"
      },
      "source": [
        "########## Untuk mengholah data input sebelum di inference ##########\n",
        "\n",
        "def input_sentence(text):\n",
        "    user_ = clean_text(text)\n",
        "    user = [user_]\n",
        "\n",
        "    inp_sentence = []\n",
        "    for sentence in user:\n",
        "        lst = []\n",
        "        for y in sentence.split():\n",
        "            try:\n",
        "                lst.append(vocab[y])\n",
        "            except:\n",
        "                lst.append(vocab['<OUT>'])\n",
        "        inp_sentence.append(lst)\n",
        "    \n",
        "    inputs_sentence = pad_sequences(inp_sentence, max_input_len, padding='post')\n",
        "    states_value = enc_model.predict(inputs_sentence)\n",
        "    target_seq = np.zeros((1, 1))\n",
        "    target_seq[0, 0] = vocab['<SOS>']\n",
        "\n",
        "    return target_seq, states_value"
      ],
      "execution_count": 24,
      "outputs": []
    },
    {
      "cell_type": "code",
      "metadata": {
        "id": "WVS8TUXSX9dU",
        "colab": {
          "base_uri": "https://localhost:8080/"
        },
        "outputId": "b6f00716-9e4d-4aaf-d3f1-81c9a9152176"
      },
      "source": [
        "############# BOT SABA #################\n",
        "user_ = \"\"\n",
        "while user_ != 'quit':\n",
        "    user_  = input(\"you : \")\n",
        "    target_seq, states_value = input_sentence(user_)\n",
        "\n",
        "    stop_condition = False\n",
        "    decoded = ''\n",
        "\n",
        "    while not stop_condition :\n",
        "        output_tokens , h, c= dec_model.predict([target_seq] + states_value )\n",
        "        input_tokens = d_dense(output_tokens)\n",
        "        word_index = np.argmax(input_tokens[0, -1, :])\n",
        "\n",
        "        ### Invers dari angka ke word index dalam vocab ###\n",
        "        word = inv_vocab[word_index] + ' '\n",
        "        if word != '<EOS> ':\n",
        "            decoded += word  \n",
        "        if word == '<EOS> ' or len(decoded.split()) > 13:\n",
        "            stop_condition = True \n",
        "\n",
        "        target_seq = np.zeros((1 , 1))  \n",
        "        target_seq[0 , 0] = word_index\n",
        "        states_value = [h, c]\n",
        "\n",
        "    print(\"saba : \", decoded)\n",
        "    print(\"==============================================\")  "
      ],
      "execution_count": 31,
      "outputs": [
        {
          "output_type": "stream",
          "text": [
            "you : quit\n",
            "saba :  itu bukan salah satu kekuatanku \n",
            "==============================================\n"
          ],
          "name": "stdout"
        }
      ]
    },
    {
      "cell_type": "markdown",
      "metadata": {
        "id": "gDuju45icWUj"
      },
      "source": [
        "**Saving Model & Weights**\n",
        "---\n",
        "\n",
        "---"
      ]
    },
    {
      "cell_type": "code",
      "metadata": {
        "id": "0Tex_RwSiJcB"
      },
      "source": [
        "# enc_model.save_weights('./enc_model_fisika.h5')\n",
        "# dec_model.save_weights('./dec_model_fisika.h5')\n",
        "# model.save_weights('./main_model.h5')"
      ],
      "execution_count": 26,
      "outputs": []
    }
  ]
}